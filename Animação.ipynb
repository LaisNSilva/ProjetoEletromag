{
 "cells": [
  {
   "cell_type": "code",
   "execution_count": 8,
   "metadata": {},
   "outputs": [],
   "source": [
    "import matplotlib.pyplot as plt\n",
    "%matplotlib inline\n",
    "\n",
    "from scipy.integrate import odeint\n",
    "import math\n",
    "from numpy import arange\n",
    "import numpy as np\n",
    "import matplotlib.pyplot as plt\n",
    "from scipy.integrate import odeint"
   ]
  },
  {
   "cell_type": "code",
   "execution_count": 9,
   "metadata": {},
   "outputs": [],
   "source": [
    "# CONSTANTES:\n",
    "conductivity_aluminium=3.3*(10**7)\n",
    "resistivity_aluminium = 1/conductivity_aluminium\n",
    "#massa do disco\n",
    "m=0.51\n",
    "#Volume\n",
    "#S= math.pi * 0.04**2\n",
    "S= 2.5*2e-4\n",
    "d = 8e-3\n",
    "V= S*d\n",
    "#distancia do centro do disco até o campo magnetico\n",
    "R=8.2/100\n",
    "# w inicial\n",
    "w=400\n",
    "# Momento de inercia de um disco (para calcular a aceleração a partir do torque)\n",
    "I = m*R**2"
   ]
  },
  {
   "cell_type": "code",
   "execution_count": 10,
   "metadata": {},
   "outputs": [],
   "source": [
    "#Campo magnetico\n",
    "#B=u0*n*i/Ig\n",
    "B= 0.3\n",
    "\n",
    "# Densidade da corrente\n",
    "J= conductivity_aluminium*(R*w*B)\n",
    "\n",
    "# Potencia dissipada\n",
    "Pd= resistivity_aluminium*(J**2)*V\n",
    "\n",
    "# Torque de frenagem (Tb)\n",
    "Tb= Pd/w\n",
    "\n",
    "# aceleração angular\n",
    "a_angular = Tb/I"
   ]
  },
  {
   "cell_type": "code",
   "execution_count": 12,
   "metadata": {},
   "outputs": [],
   "source": [
    "#POR ODEINT\n",
    "\n",
    "#lista tempo\n",
    "delta_t=1e-3\n",
    "listatempo= np.arange(0,8,delta_t)\n",
    "#implementando a função EquacoesDiferenciais\n",
    "def calcula_aceleracao(condicao_inicial,t,B):\n",
    "    w= condicao_inicial\n",
    "    J= conductivity_aluminium*(R*w*B)\n",
    "    Pd= resistivity_aluminium*(J**2)*V\n",
    "    Tb= Pd/w\n",
    "    a_angular= Tb/I\n",
    "    dwdt= -a_angular\n",
    "    return dwdt\n",
    "\n",
    "Solucao= odeint(calcula_aceleracao, w, listatempo,args=(Bs,))\n",
    "velocidade = Solucao*R\n"
   ]
  },
  {
   "cell_type": "code",
   "execution_count": 22,
   "metadata": {},
   "outputs": [
    {
     "name": "stderr",
     "output_type": "stream",
     "text": [
      "C:\\Users\\Lais Nascimento\\anaconda3\\lib\\site-packages\\ipykernel_launcher.py:27: MatplotlibDeprecationWarning: Adding an axes using the same arguments as a previous axes currently reuses the earlier instance.  In a future version, a new instance will always be created and returned.  Meanwhile, this warning can be suppressed, and the future behavior ensured, by passing a unique label to each axes instance.\n"
     ]
    }
   ],
   "source": [
    "get_ipython().magic('matplotlib qt5')\n",
    "import matplotlib.pyplot as plt\n",
    "%matplotlib inline\n",
    "\n",
    "from scipy.integrate import odeint\n",
    "import math\n",
    "from numpy import arange\n",
    "import numpy as np\n",
    "import matplotlib.pyplot as plt\n",
    "import matplotlib.patches as patches\n",
    "from matplotlib import animation\n",
    "\n",
    "%matplotlib qt5\n",
    "\n",
    "#parâmetros\n",
    "rb=0.2\n",
    "ra=1\n",
    "\n",
    "\n",
    "ya=Solucao[:,0]\n",
    "xa=[0]*len(ya)\n",
    "\n",
    "fig = plt.figure(figsize=(20,10))\n",
    "\n",
    "plt.axis('equal')\n",
    "\n",
    "ax = fig.add_subplot(111)\n",
    "\n",
    "ax.set_xlim(-2, 2)\n",
    "ax.set_ylim(-1, 3)\n",
    "\n",
    "\n",
    "disco = patches.Circle((0, 1), radius=1, fc='b')\n",
    "#anel = patches.Rectangle((0, 0), 0, 0, fc='r')\n",
    "#elastico1, = ax.plot([],[], 'go-', lw=2)\n",
    "#elastico2, = ax.plot([],[], 'go-', lw=2)\n",
    "\n",
    "#disco.set_width(rb)\n",
    "#disco.set_height(1.0)\n",
    "#anel.set_width(ra)\n",
    "#anel.set_height(0.1)\n",
    "\n",
    "def init():\n",
    "    ax.add_patch(disco)\n",
    "    #ax.add_patch(anel)\n",
    "    #elastico1.set_data([], [])\n",
    "    #elastico2.set_data([], [])\n",
    "    return None\n",
    "\n",
    "def animate(i):\n",
    "    \n",
    "    disco.set_xy([xb[i]-rb/2, yb[i]-1])    \n",
    "    #anel.set_xy([xa[i]-ra/2, ya[i]])   \n",
    "    #elastico1.set_data([-rb/2, -ra/2], [yb[i], ya[i]+0.05])\n",
    "    #elastico2.set_data([rb/2, +ra/2], [yb[i], ya[i]+0.05])     \n",
    "    return None\n",
    "\n",
    "\n",
    "anim = animation.FuncAnimation(fig, animate, init_func=init, frames=len(ya), interval=30, blit=False)\n",
    "\n",
    "plt.show()"
   ]
  },
  {
   "cell_type": "code",
   "execution_count": null,
   "metadata": {},
   "outputs": [],
   "source": []
  }
 ],
 "metadata": {
  "kernelspec": {
   "display_name": "Python 3",
   "language": "python",
   "name": "python3"
  },
  "language_info": {
   "codemirror_mode": {
    "name": "ipython",
    "version": 3
   },
   "file_extension": ".py",
   "mimetype": "text/x-python",
   "name": "python",
   "nbconvert_exporter": "python",
   "pygments_lexer": "ipython3",
   "version": "3.7.6"
  }
 },
 "nbformat": 4,
 "nbformat_minor": 4
}

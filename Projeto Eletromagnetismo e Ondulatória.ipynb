{
 "cells": [
  {
   "cell_type": "markdown",
   "metadata": {},
   "source": [
    "# Projeto Eletromagnetismo e Ondulatória"
   ]
  },
  {
   "cell_type": "markdown",
   "metadata": {},
   "source": [
    "# Freio Magnético"
   ]
  },
  {
   "cell_type": "markdown",
   "metadata": {},
   "source": [
    "## Modelagem:"
   ]
  },
  {
   "cell_type": "markdown",
   "metadata": {},
   "source": [
    "<img src=\"modelo.png\" width=\"650\">"
   ]
  },
  {
   "cell_type": "code",
   "execution_count": 1,
   "metadata": {},
   "outputs": [],
   "source": [
    "import math\n",
    "import numpy as np\n",
    "import matplotlib.pyplot as plt\n",
    "from scipy.integrate import odeint"
   ]
  },
  {
   "cell_type": "markdown",
   "metadata": {},
   "source": [
    "### Constantes"
   ]
  },
  {
   "cell_type": "code",
   "execution_count": 70,
   "metadata": {},
   "outputs": [],
   "source": [
    "# CONSTANTES:\n",
    "conductivity_aluminium=3.3*(10**7)\n",
    "resistivity_aluminium = 1/conductivity_aluminium\n",
    "#massa do disco\n",
    "m=0.51\n",
    "#Volume\n",
    "#S= math.pi * 0.04**2\n",
    "S= 2.5*2e-4\n",
    "d = 8e-3\n",
    "V= S*d\n",
    "#distancia do centro do disco até o campo magnetico\n",
    "R=8.2/100\n",
    "# w inicial\n",
    "w=400\n",
    "# Momento de inercia de um disco (para calcular a aceleração a partir do torque)\n",
    "I = m*R**2"
   ]
  },
  {
   "cell_type": "markdown",
   "metadata": {},
   "source": [
    "### Formulas\n",
    "Para os calculos, foi utilizado as formulas desse artigo: https://www.researchgate.net/publication/265088196_Braking_Torque_Analysis_On_Electromagnetic_Braking_Study_Using_Eddy_Current_For_Brake_Disc_Of_Al6061_And_Al7075"
   ]
  },
  {
   "cell_type": "code",
   "execution_count": 76,
   "metadata": {},
   "outputs": [],
   "source": [
    "#Campo magnetico\n",
    "#B=u0*n*i/Ig\n",
    "B= 0.1\n",
    "\n",
    "# Densidade da corrente\n",
    "J= conductivity_aluminium*(R*w*B)\n",
    "\n",
    "# Potencia dissipada\n",
    "Pd= resistivity_aluminium*(J**2)*V\n",
    "\n",
    "# Torque de frenagem (Tb)\n",
    "Tb= Pd/w\n",
    "\n",
    "# aceleração angular\n",
    "a_angular = Tb/I"
   ]
  },
  {
   "cell_type": "markdown",
   "metadata": {},
   "source": [
    "## Simulação"
   ]
  },
  {
   "cell_type": "code",
   "execution_count": 77,
   "metadata": {},
   "outputs": [],
   "source": [
    "#POR ODEINT\n",
    "\n",
    "#lista tempo\n",
    "delta_t=1e-3\n",
    "listatempo= np.arange(0,2,delta_t)\n",
    "#implementando a função EquacoesDiferenciais\n",
    "def calcula_aceleracao(condicao_inicial,t,B):\n",
    "    w= condicao_inicial\n",
    "    J= conductivity_aluminium*(R*w*B)\n",
    "    Pd= resistivity_aluminium*(J**2)*V\n",
    "    Tb= Pd/w\n",
    "    a_angular= Tb/I\n",
    "    dwdt= -a_angular\n",
    "    return dwdt\n",
    "\n",
    "# lista_B = np.arange(0.05, 0.4, 0.025)\n",
    "# for Bs in lista_B:\n",
    "#     Solucao= odeint(calcula_aceleracao, w, listatempo,args=(Bs,))\n",
    "#     velocidade = Solucao*R\n",
    "#     plt.plot(listatempo, velocidade,label='B={0:.2f}'.format(Bs))\n",
    "\n",
    "# plt.title(\"Velocidade do disco pelo tempo\")\n",
    "# plt.xlabel(\"Tempo(s)\")\n",
    "# plt.ylabel(\"Velocidade linear do disco\")\n",
    "# plt.legend()\n",
    "# plt.grid(True)\n",
    "# plt.show()"
   ]
  },
  {
   "cell_type": "code",
   "execution_count": 78,
   "metadata": {
    "scrolled": true
   },
   "outputs": [
    {
     "name": "stdout",
     "output_type": "stream",
     "text": [
      "[[400.        ]\n",
      " [398.96604356]\n",
      " [397.93475992]\n",
      " ...\n",
      " [  2.27677211]\n",
      " [  2.27088691]\n",
      " [  2.26501692]]\n"
     ]
    }
   ],
   "source": [
    "Solucao= odeint(calcula_aceleracao, w, listatempo,args=(B,))\n",
    "print(Solucao)"
   ]
  },
  {
   "cell_type": "code",
   "execution_count": null,
   "metadata": {},
   "outputs": [],
   "source": []
  },
  {
   "cell_type": "code",
   "execution_count": 79,
   "metadata": {},
   "outputs": [],
   "source": [
    "v = Solucao*delta_t\n",
    "lista = list()\n",
    "for i in v:\n",
    "    lista.append(i[0])"
   ]
  },
  {
   "cell_type": "code",
   "execution_count": null,
   "metadata": {
    "scrolled": false
   },
   "outputs": [
    {
     "data": {
      "text/html": [
       "<div id=\"glowscript\" class=\"glowscript\"></div>"
      ],
      "text/plain": [
       "<IPython.core.display.HTML object>"
      ]
     },
     "metadata": {},
     "output_type": "display_data"
    },
    {
     "data": {
      "application/javascript": [
       "if (typeof Jupyter !== \"undefined\") { window.__context = { glowscript_container: $(\"#glowscript\").removeAttr(\"id\")};}else{ element.textContent = ' ';}"
      ],
      "text/plain": [
       "<IPython.core.display.Javascript object>"
      ]
     },
     "metadata": {},
     "output_type": "display_data"
    }
   ],
   "source": [
    "from vpython import *\n",
    "scene = canvas(title='Laís giradora')\n",
    "c = shapes.circle(radius=5)\n",
    "c_1 = extrusion(path=[vector(1,0,1),vector(0,0,0.01)], shape=c, texture=\"https://scontent.fsjk1-1.fna.fbcdn.net/v/t1.0-9/84009140_2640762216002095_2005602534407798784_o.jpg?_nc_cat=106&ccb=2&_nc_sid=174925&_nc_ohc=sq05g8hEyLMAX8ybxso&_nc_ht=scontent.fsjk1-1.fna&oh=6f789b0c820bef630438583851ac70be&oe=5FD2F793\")\n",
    "\n",
    "size = len(lista)\n",
    "count = 0\n",
    "while (count < size):\n",
    "    rate(10)\n",
    "    c_1.rotate(axis=vector(1,0,1), angle=lista[count])\n",
    "    count += 1"
   ]
  },
  {
   "cell_type": "code",
   "execution_count": null,
   "metadata": {},
   "outputs": [],
   "source": [
    "# =\"http://vernare.com.br/novo/wp-content/uploads/2015/05/foto1.png\""
   ]
  },
  {
   "cell_type": "code",
   "execution_count": null,
   "metadata": {},
   "outputs": [],
   "source": []
  }
 ],
 "metadata": {
  "kernelspec": {
   "display_name": "Python 3",
   "language": "python",
   "name": "python3"
  },
  "language_info": {
   "codemirror_mode": {
    "name": "ipython",
    "version": 3
   },
   "file_extension": ".py",
   "mimetype": "text/x-python",
   "name": "python",
   "nbconvert_exporter": "python",
   "pygments_lexer": "ipython3",
   "version": "3.7.3"
  }
 },
 "nbformat": 4,
 "nbformat_minor": 4
}

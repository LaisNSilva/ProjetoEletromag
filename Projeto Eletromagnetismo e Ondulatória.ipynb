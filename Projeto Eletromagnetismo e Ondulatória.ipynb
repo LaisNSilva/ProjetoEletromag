{
 "cells": [
  {
   "cell_type": "markdown",
   "metadata": {},
   "source": [
    "# Projeto Eletromagnetismo e Ondulatória"
   ]
  },
  {
   "cell_type": "markdown",
   "metadata": {},
   "source": [
    "# Freio Magnético"
   ]
  },
  {
   "cell_type": "markdown",
   "metadata": {},
   "source": [
    "## Modelagem:"
   ]
  },
  {
   "cell_type": "markdown",
   "metadata": {},
   "source": [
    "<img src=\"modelo.png\" width=\"650\">"
   ]
  },
  {
   "cell_type": "code",
   "execution_count": 660,
   "metadata": {},
   "outputs": [],
   "source": [
    "import math\n",
    "import numpy as np\n",
    "import matplotlib.pyplot as plt\n",
    "from scipy.integrate import odeint"
   ]
  },
  {
   "cell_type": "code",
   "execution_count": 661,
   "metadata": {},
   "outputs": [],
   "source": [
    "def forca(w, B):\n",
    "    F = (w*r*(B^2)*(a^2))/p\n",
    "    return F"
   ]
  },
  {
   "cell_type": "code",
   "execution_count": 662,
   "metadata": {},
   "outputs": [],
   "source": [
    "def torque (w, B):\n",
    "    T = -(w*(r^2)*(a^2)*(B^2))/p\n",
    "    return p"
   ]
  },
  {
   "cell_type": "code",
   "execution_count": 663,
   "metadata": {},
   "outputs": [],
   "source": [
    "# Para os calculos, utilizei as formulas desse artigo:\n",
    "# https://www.researchgate.net/publication/265088196_Braking_Torque_Analysis_On_Electromagnetic_Braking_Study_Using_Eddy_Current_For_Brake_Disc_Of_Al6061_And_Al7075\n",
    "# Encontrei essas formulas em varios outros artigos então podem estar corretas. Se não me engano são as mesmas\n",
    "# formulas listadas na imagem"
   ]
  },
  {
   "cell_type": "code",
   "execution_count": 664,
   "metadata": {},
   "outputs": [],
   "source": [
    "# CONSTANTES:\n",
    "# REVER ESSES VALORES:\n",
    "conductivity_aluminium=2.73*(10**7)\n",
    "resistivity_aluminium = 1/conductivity_aluminium\n",
    "#massa do disco\n",
    "m=1\n",
    "#Volume\n",
    "S= math.pi * 0.04**2\n",
    "d = 0.03/100\n",
    "V= S*d\n",
    "#distancia do centro do disco até o campo magnetico\n",
    "R=5/100\n",
    "# w inicial\n",
    "w=800\n",
    "# Momento de inercia de um disco (para calcular a aceleração a partir do torque)\n",
    "I = m*R**2"
   ]
  },
  {
   "cell_type": "code",
   "execution_count": 665,
   "metadata": {},
   "outputs": [],
   "source": [
    "#Campo magnetico\n",
    "#B=u0*n*i/Ig\n",
    "B= 0.02"
   ]
  },
  {
   "cell_type": "code",
   "execution_count": 666,
   "metadata": {},
   "outputs": [
    {
     "name": "stdout",
     "output_type": "stream",
     "text": [
      "21840000.0\n"
     ]
    }
   ],
   "source": [
    "# Corrente induzida\n",
    "J= conductivity_aluminium*(R*w*B)\n",
    "print (J)"
   ]
  },
  {
   "cell_type": "code",
   "execution_count": 667,
   "metadata": {},
   "outputs": [
    {
     "name": "stdout",
     "output_type": "stream",
     "text": [
      "26.347155284890015\n"
     ]
    }
   ],
   "source": [
    "# Potencia dissipada\n",
    "Pd= resistivity_aluminium*(J**2)*V\n",
    "print (Pd)"
   ]
  },
  {
   "cell_type": "code",
   "execution_count": 668,
   "metadata": {},
   "outputs": [
    {
     "name": "stdout",
     "output_type": "stream",
     "text": [
      "0.03293394410611252\n"
     ]
    }
   ],
   "source": [
    "# Torque de frenagem (Tb)\n",
    "Tb= Pd/w\n",
    "print (Tb)"
   ]
  },
  {
   "cell_type": "code",
   "execution_count": 669,
   "metadata": {},
   "outputs": [
    {
     "name": "stdout",
     "output_type": "stream",
     "text": [
      "13.173577642445006\n"
     ]
    }
   ],
   "source": [
    "# aceleração angular\n",
    "a_angular = Tb/I\n",
    "print (a_angular)"
   ]
  },
  {
   "cell_type": "code",
   "execution_count": 670,
   "metadata": {},
   "outputs": [],
   "source": [
    "delta_t=1e-3\n",
    "lista_v=[]\n",
    "lista_a=[]\n",
    "listatempo= np.arange(0,300,delta_t)\n",
    "w0= w\n",
    "\n",
    "# ACREDITO QUE DESSA FORMA TA ERRADO. Veja com o odeint\n",
    "# for i in listatempo:\n",
    "    \n",
    "#     J= conductivity_aluminium*(R*w0*B)\n",
    "#     Pd= resistivity_aluminium*(J**2)*V\n",
    "#     Tb= Pd/w0\n",
    "#     a_angular= Tb/I\n",
    "#     w0 = w0-a_angular\n",
    "#     v= w0*R\n",
    "#     lista_v.append(v)\n",
    "#     lista_a.append(a_angular*R)\n",
    "# plt.plot(listatempo,lista_v,'b',label='Velocidade')\n",
    "# plt.plot(listatempo,lista_a,'r',label='Aceleração')\n",
    "# plt.title(\"Velocidade do disco ao longo do tempo\")\n",
    "# plt.xlabel(\"Tempo(s)\")\n",
    "# plt.ylabel(\"Velocidade(m/s)\")\n",
    "# plt.legend()\n",
    "# plt.grid(True)\n",
    "# plt.show()"
   ]
  },
  {
   "cell_type": "code",
   "execution_count": null,
   "metadata": {},
   "outputs": [],
   "source": []
  },
  {
   "cell_type": "code",
   "execution_count": 671,
   "metadata": {},
   "outputs": [
    {
     "data": {
      "image/png": "[encoded data removed]",
      "text/plain": [
       "<Figure size 432x288 with 1 Axes>"
      ]
     },
     "metadata": {
      "needs_background": "light"
     },
     "output_type": "display_data"
    }
   ],
   "source": [
    "#POR ODEINT\n",
    "#implementando a função EquacoesDiferenciais\n",
    "def derivadas(condicao_inicial,t,R,conductivity_aluminium,B,V):\n",
    "    w= condicao_inicial\n",
    "    J= conductivity_aluminium*(R*w*B)\n",
    "    Pd= resistivity_aluminium*(J**2)*V\n",
    "    Tb= Pd/w\n",
    "    a_angular= Tb/I\n",
    "    dt1dt= -a_angular\n",
    "    return dt1dt\n",
    "\n",
    "Solucao= odeint(derivadas, 800, listatempo,args=(R,conductivity_aluminium,B,V))\n",
    "velocidade = Solucao*R\n",
    "plt.plot(listatempo, velocidade,'b',label='Velocidade')\n",
    "plt.title(\"Velocidade do disco pelo tempo (Acho que está correto, apesar de demorar muito para frear).\")\n",
    "plt.xlabel(\"Tempo(s)\")\n",
    "plt.ylabel(\"Velocidade linear do disco\")\n",
    "plt.legend()\n",
    "plt.grid(True)\n",
    "plt.show()"
   ]
  },
  {
   "cell_type": "code",
   "execution_count": null,
   "metadata": {},
   "outputs": [],
   "source": []
  }
 ],
 "metadata": {
  "kernelspec": {
   "display_name": "Python 3",
   "language": "python",
   "name": "python3"
  },
  "language_info": {
   "codemirror_mode": {
    "name": "ipython",
    "version": 3
   },
   "file_extension": ".py",
   "mimetype": "text/x-python",
   "name": "python",
   "nbconvert_exporter": "python",
   "pygments_lexer": "ipython3",
   "version": "3.7.4"
  }
 },
 "nbformat": 4,
 "nbformat_minor": 4
}
